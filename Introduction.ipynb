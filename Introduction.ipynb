{
 "cells": [
  {
   "cell_type": "markdown",
   "metadata": {},
   "source": [
    "# Capstone Project - The Battle of Neighbourhoods\n",
    "## Introduction / Business Problem"
   ]
  },
  {
   "cell_type": "markdown",
   "metadata": {},
   "source": [
    "### The amount of times we hearing about AI,VR is getting increased day by day and he tought he will start a new kind in United States. By this idea, my friend Rasheed decided to start a VR park for all related to VR. It is meant to be indoor one and includes gaming,newest technologies implemented as well as learning spots."
   ]
  },
  {
   "cell_type": "markdown",
   "metadata": {},
   "source": [
    "Rasheed have been thinking about the same for the past 2 years and finally he decided this to be set up at one of the best place in United States.  He defines a best locatlity based on the following constraints,\n",
    "\n",
    "-Population density of a locality  \n",
    "-Per Capital income  \n",
    "-Population of each location  \n",
    "-Venues in each locality  \n",
    "\n",
    "The category of the venues that he's interested in are,\n",
    "\n",
    "-Arts and Entertainment  \n",
    "-Shops & Service  \n",
    "-College and University  \n",
    "-Event  \n",
    "-Food  \n",
    "-Nightife Spot  \n",
    "-Outdoors & Recreation  \n",
    "-Professional & Other places  \n",
    "-Residence  \n",
    "-Travel & Transport   "
   ]
  }
 ],
 "metadata": {
  "anaconda-cloud": {},
  "kernelspec": {
   "display_name": "Python [default]",
   "language": "python",
   "name": "python3"
  },
  "language_info": {
   "codemirror_mode": {
    "name": "ipython",
    "version": 3
   },
   "file_extension": ".py",
   "mimetype": "text/x-python",
   "name": "python",
   "nbconvert_exporter": "python",
   "pygments_lexer": "ipython3",
   "version": "3.5.2"
  }
 },
 "nbformat": 4,
 "nbformat_minor": 1
}
